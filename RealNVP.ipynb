{
  "nbformat": 4,
  "nbformat_minor": 0,
  "metadata": {
    "colab": {
      "provenance": [],
      "collapsed_sections": [
        "PIjlz0dFDTg3",
        "NHySFVLDeJB6",
        "XK48zHvA486s",
        "nILnFyHv4_bD",
        "RwnCI63O5FDz"
      ],
      "authorship_tag": "ABX9TyMZH5uJ3DdUtyKtsu27tml+",
      "include_colab_link": true
    },
    "kernelspec": {
      "name": "python3",
      "display_name": "Python 3"
    },
    "language_info": {
      "name": "python"
    }
  },
  "cells": [
    {
      "cell_type": "markdown",
      "metadata": {
        "id": "view-in-github",
        "colab_type": "text"
      },
      "source": [
        "<a href=\"https://colab.research.google.com/github/ZahraReyhanian/DGM/blob/main/RealNVP.ipynb\" target=\"_parent\"><img src=\"https://colab.research.google.com/assets/colab-badge.svg\" alt=\"Open In Colab\"/></a>"
      ]
    },
    {
      "cell_type": "markdown",
      "source": [
        "## import neccesary libraries"
      ],
      "metadata": {
        "id": "PIjlz0dFDTg3"
      }
    },
    {
      "cell_type": "code",
      "execution_count": null,
      "metadata": {
        "id": "bJenELr3SHNS"
      },
      "outputs": [],
      "source": [
        "import math\n",
        "import numpy as np\n",
        "import pandas as pd\n",
        "import matplotlib.pyplot as plt\n",
        "from torchvision import datasets, transforms\n",
        "import torch\n",
        "import torch.nn.init as init\n",
        "import torch.nn.functional as F\n",
        "from torch import autograd, nn, optim\n",
        "from torch.distributions.multivariate_normal import MultivariateNormal\n",
        "from sklearn.preprocessing import StandardScaler\n",
        "from sklearn.preprocessing import MinMaxScaler\n",
        "from sklearn.model_selection import train_test_split\n",
        "\n",
        "\n",
        "# Batch size\n",
        "batch_size = 100\n",
        "\n",
        "# Device configuration\n",
        "device = torch.device('cuda' if torch.cuda.is_available() else 'cpu')"
      ]
    },
    {
      "cell_type": "markdown",
      "source": [
        "## Prepare dataset"
      ],
      "metadata": {
        "id": "NHySFVLDeJB6"
      }
    },
    {
      "cell_type": "code",
      "source": [
        "def get_mnist_data(device, batch_size):\n",
        "    preprocess = transforms.ToTensor()\n",
        "    train_loader = torch.utils.data.DataLoader(\n",
        "        datasets.MNIST('data', train=True, download=True, transform=preprocess),\n",
        "        batch_size=batch_size,\n",
        "        shuffle=True)\n",
        "    test_loader = torch.utils.data.DataLoader(\n",
        "        datasets.MNIST('data', train=False, download=True, transform=preprocess),\n",
        "        batch_size=batch_size,\n",
        "        shuffle=True)\n",
        "\n",
        "    # Create pre-processed training and test sets\n",
        "    X_train = train_loader.dataset.train_data.to(device).reshape(-1, 784).float() / 255\n",
        "    y_train = train_loader.dataset.train_labels.to(device)\n",
        "    X_test = test_loader.dataset.test_data.to(device).reshape(-1, 784).float() / 255\n",
        "    y_test = test_loader.dataset.test_labels.to(device)\n",
        "\n",
        "    return train_loader, test_loader\n",
        "\n",
        "train_loader, test_loader = get_mnist_data(device, batch_size)\n",
        "train_loader"
      ],
      "metadata": {
        "colab": {
          "base_uri": "https://localhost:8080/"
        },
        "id": "kRWHNXAwS9_B",
        "outputId": "e506f518-ba5d-4683-b0a2-17ab978139a5"
      },
      "execution_count": null,
      "outputs": [
        {
          "output_type": "stream",
          "name": "stdout",
          "text": [
            "Downloading http://yann.lecun.com/exdb/mnist/train-images-idx3-ubyte.gz\n",
            "Downloading http://yann.lecun.com/exdb/mnist/train-images-idx3-ubyte.gz to data/MNIST/raw/train-images-idx3-ubyte.gz\n"
          ]
        },
        {
          "output_type": "stream",
          "name": "stderr",
          "text": [
            "100%|██████████| 9912422/9912422 [00:00<00:00, 80403239.75it/s]\n"
          ]
        },
        {
          "output_type": "stream",
          "name": "stdout",
          "text": [
            "Extracting data/MNIST/raw/train-images-idx3-ubyte.gz to data/MNIST/raw\n",
            "\n",
            "Downloading http://yann.lecun.com/exdb/mnist/train-labels-idx1-ubyte.gz\n",
            "Downloading http://yann.lecun.com/exdb/mnist/train-labels-idx1-ubyte.gz to data/MNIST/raw/train-labels-idx1-ubyte.gz\n"
          ]
        },
        {
          "output_type": "stream",
          "name": "stderr",
          "text": [
            "100%|██████████| 28881/28881 [00:00<00:00, 44017330.60it/s]\n"
          ]
        },
        {
          "output_type": "stream",
          "name": "stdout",
          "text": [
            "Extracting data/MNIST/raw/train-labels-idx1-ubyte.gz to data/MNIST/raw\n",
            "\n",
            "Downloading http://yann.lecun.com/exdb/mnist/t10k-images-idx3-ubyte.gz\n",
            "Downloading http://yann.lecun.com/exdb/mnist/t10k-images-idx3-ubyte.gz to data/MNIST/raw/t10k-images-idx3-ubyte.gz\n"
          ]
        },
        {
          "output_type": "stream",
          "name": "stderr",
          "text": [
            "100%|██████████| 1648877/1648877 [00:00<00:00, 20848958.43it/s]\n"
          ]
        },
        {
          "output_type": "stream",
          "name": "stdout",
          "text": [
            "Extracting data/MNIST/raw/t10k-images-idx3-ubyte.gz to data/MNIST/raw\n",
            "\n",
            "Downloading http://yann.lecun.com/exdb/mnist/t10k-labels-idx1-ubyte.gz\n",
            "Downloading http://yann.lecun.com/exdb/mnist/t10k-labels-idx1-ubyte.gz to data/MNIST/raw/t10k-labels-idx1-ubyte.gz\n"
          ]
        },
        {
          "output_type": "stream",
          "name": "stderr",
          "text": [
            "100%|██████████| 4542/4542 [00:00<00:00, 13229533.87it/s]\n",
            "/usr/local/lib/python3.10/dist-packages/torchvision/datasets/mnist.py:75: UserWarning: train_data has been renamed data\n",
            "  warnings.warn(\"train_data has been renamed data\")\n"
          ]
        },
        {
          "output_type": "stream",
          "name": "stdout",
          "text": [
            "Extracting data/MNIST/raw/t10k-labels-idx1-ubyte.gz to data/MNIST/raw\n",
            "\n"
          ]
        },
        {
          "output_type": "stream",
          "name": "stderr",
          "text": [
            "/usr/local/lib/python3.10/dist-packages/torchvision/datasets/mnist.py:65: UserWarning: train_labels has been renamed targets\n",
            "  warnings.warn(\"train_labels has been renamed targets\")\n",
            "/usr/local/lib/python3.10/dist-packages/torchvision/datasets/mnist.py:80: UserWarning: test_data has been renamed data\n",
            "  warnings.warn(\"test_data has been renamed data\")\n",
            "/usr/local/lib/python3.10/dist-packages/torchvision/datasets/mnist.py:70: UserWarning: test_labels has been renamed targets\n",
            "  warnings.warn(\"test_labels has been renamed targets\")\n"
          ]
        },
        {
          "output_type": "execute_result",
          "data": {
            "text/plain": [
              "<torch.utils.data.dataloader.DataLoader at 0x78dccb267520>"
            ]
          },
          "metadata": {},
          "execution_count": 2
        }
      ]
    },
    {
      "cell_type": "markdown",
      "source": [
        "## Coupling Layer Class"
      ],
      "metadata": {
        "id": "XK48zHvA486s"
      }
    },
    {
      "cell_type": "code",
      "source": [
        "class CouplingLayer(nn.Module):\n",
        "    \"\"\"\n",
        "    A couplingLayer layer.\n",
        "\n",
        "    \"\"\"\n",
        "    def __init__(self, input_dim, hidden_dim):\n",
        "      super(CouplingLayer, self).__init__()\n",
        "      self.input_dim = input_dim\n",
        "      self.hidden_dim = hidden_dim\n",
        "\n",
        "      ## layers used to compute scale in affine transformation\n",
        "      self.scale_fc1 = nn.Linear(self.input_dim, self.hidden_dim)\n",
        "      self.scale_fc2 = nn.Linear(self.hidden_dim, self.hidden_dim)\n",
        "      self.scale_fc3 = nn.Linear(self.hidden_dim, self.input_dim)\n",
        "\n",
        "\n",
        "      ## layers used to compute translation in affine transformation\n",
        "      self.translation_fc1 = nn.Linear(self.input_dim, self.hidden_dim)\n",
        "      self.translation_fc2 = nn.Linear(self.hidden_dim, self.hidden_dim)\n",
        "      self.translation_fc3 = nn.Linear(self.hidden_dim, self.input_dim)\n",
        "\n",
        "    def _compute_scale(self, x):\n",
        "        ## compute scaling factor\n",
        "        s = torch.relu(self.scale_fc1(x))\n",
        "        s = torch.relu(self.scale_fc2(s))\n",
        "        s = torch.relu(self.scale_fc3(s))\n",
        "        return s\n",
        "\n",
        "    def _compute_translation(self, x):\n",
        "        ## compute translation\n",
        "        t = torch.relu(self.translation_fc1(x))\n",
        "        t = torch.relu(self.translation_fc2(t))\n",
        "        t = self.translation_fc3(t)\n",
        "        return t\n",
        "\n",
        "    def forward(self, x):\n",
        "      '''\n",
        "        forward step:\n",
        "          This method divides the input into two equal parts.\n",
        "          The formula is like the formula 4, 5 of RealNVP paper.\n",
        "\n",
        "        input: x\n",
        "        output: y, log of determinant of Jacobian matrix\n",
        "\n",
        "      '''\n",
        "      x_a, x_b = x.chunk(2, dim=1)\n",
        "\n",
        "      s = self._compute_scale(x_a)\n",
        "      t = self._compute_translation(x_a)\n",
        "\n",
        "      y_a = x_a\n",
        "      y_b = torch.exp(s).mul(x_b) + t\n",
        "\n",
        "      logdet = torch.sum(s, -1)\n",
        "\n",
        "      return torch.cat([y_a, y_b], dim=1), logdet\n",
        "\n",
        "    def inverse(self, y):\n",
        "      '''\n",
        "        inverse step:\n",
        "          This method divides the input into two equal parts.\n",
        "          The formula is like the formula 8 of RealNVP paper.\n",
        "\n",
        "        input: y\n",
        "        output: x, log of determinant of Jacobian matrix\n",
        "\n",
        "      '''\n",
        "      y_a, y_b = y.chunk(2, dim=1)\n",
        "\n",
        "      s = self._compute_scale(y_a)\n",
        "      t = self._compute_translation(y_a)\n",
        "\n",
        "      x_a = y_a\n",
        "      x_b = (y_b - t).mul(torch.exp(-s))\n",
        "\n",
        "      logdet = torch.sum(-s, -1)\n",
        "\n",
        "      return torch.cat([x_a, x_b], dim=1), logdet"
      ],
      "metadata": {
        "id": "I0nxz22r2APD"
      },
      "execution_count": null,
      "outputs": []
    },
    {
      "cell_type": "markdown",
      "source": [
        "## Permutation Class"
      ],
      "metadata": {
        "id": "nILnFyHv4_bD"
      }
    },
    {
      "cell_type": "code",
      "source": [
        "class Permutation(nn.Module):\n",
        "    \"\"\"\n",
        "    A permutation layer.\n",
        "    The main work in this layer is to apply torch.flip method on given data\n",
        "    which reverses the order of an n-D tensor along [0,1] axis in dims.\n",
        "\n",
        "    \"\"\"\n",
        "    def __init__(self):\n",
        "        super().__init__()\n",
        "        self.permutation = torch.flip\n",
        "\n",
        "    def forward(self, x):\n",
        "        return self.permutation(x, [0,1]), 0\n",
        "\n",
        "    def inverse(self, x):\n",
        "        return self.permutation(x, [0,1]), 0"
      ],
      "metadata": {
        "id": "h7m39D9J2cc1"
      },
      "execution_count": null,
      "outputs": []
    },
    {
      "cell_type": "markdown",
      "source": [
        "## RealNVP Class"
      ],
      "metadata": {
        "id": "RwnCI63O5FDz"
      }
    },
    {
      "cell_type": "code",
      "source": [
        "class RealNVP(nn.Module):\n",
        "    \"\"\"\n",
        "    A simple RealNVP class based on \"DENSITY ESTIMATION USING REAL NVP\" paper\n",
        "    \"\"\"\n",
        "    def __init__(self, input_dim, hidden_dim, flow_n=4):\n",
        "      super(RealNVP, self).__init__()\n",
        "      self.input_dim = input_dim\n",
        "      self.hidden_dim = hidden_dim\n",
        "      self.flow_n = flow_n\n",
        "\n",
        "      # in default we have 4 pair of coupling layer and permutation\n",
        "      # they're saved in layers variable that is a ModuleList.\n",
        "      # This is out model parameter that must be learnd and optimized.\n",
        "      self.layers = nn.ModuleList()\n",
        "      for i in range(flow_n):\n",
        "        self.layers.append(CouplingLayer(self.input_dim, self.hidden_dim))\n",
        "        self.layers.append(Permutation())\n",
        "\n",
        "    def forward(self, x):\n",
        "        '''\n",
        "          implement forward method of each layer in self.layers and\n",
        "          compute total log of Jacobian determinant\n",
        "\n",
        "          input: x\n",
        "          output: y,  total log of Jacobian determinant\n",
        "        '''\n",
        "        y = x\n",
        "        logp_tot = 0\n",
        "        for i in range(self.flow_n):\n",
        "            y, logdet = self.layers[i](y)\n",
        "            logp_tot = logp_tot + logdet\n",
        "\n",
        "\n",
        "        return y, logp_tot\n",
        "\n",
        "\n",
        "    def inverse(self, y):\n",
        "        '''\n",
        "          implement inverse method of each layer in self.layers and\n",
        "          compute total log of Jacobian determinant\n",
        "\n",
        "          input: y\n",
        "          output: x,  total log of Jacobian determinant\n",
        "        '''\n",
        "        x = y\n",
        "        logp_tot = 0\n",
        "        for i in range(self.flow_n-1,-1,-1):\n",
        "            x, logdet = self.layers[i].inverse(x)\n",
        "            logp_tot = logp_tot + logdet\n",
        "\n",
        "        return x, logp_tot\n"
      ],
      "metadata": {
        "id": "hxbtXt4sTLqc"
      },
      "execution_count": null,
      "outputs": []
    },
    {
      "cell_type": "markdown",
      "source": [
        "## Train Model"
      ],
      "metadata": {
        "id": "-uqhwiWSABMS"
      }
    },
    {
      "cell_type": "code",
      "source": [
        "num_epochs = 50\n",
        "learning_rate = 0.001\n",
        "input_dim = 28*14\n",
        "hidden_dim = 120"
      ],
      "metadata": {
        "id": "mKXDcn7rhudj"
      },
      "execution_count": null,
      "outputs": []
    },
    {
      "cell_type": "code",
      "source": [
        "model = RealNVP(input_dim, hidden_dim)\n",
        "\n",
        "# Choose Adam Optimizer, lr = learning rate\n",
        "optimizer = torch.optim.Adam(model.parameters(), lr=learning_rate)\n",
        "\n",
        "train_losses = []\n",
        "test_losses = []\n",
        "\n",
        "# Training loop\n",
        "for epoch in range(num_epochs):\n",
        "    epoch_loss = 0\n",
        "    for batch_idx, (x, y) in enumerate(train_loader):\n",
        "        x = torch.bernoulli(x.to(device).reshape(x.size(0), -1))\n",
        "        y = y.new(np.eye(10)[y]).to(device).float()\n",
        "\n",
        "        # Forward pass and loss\n",
        "        z, logdet = model.inverse(x)\n",
        "        loss = torch.log(z.new_tensor([2*math.pi])) + torch.mean(torch.sum(0.5*z**2, -1) - logdet)\n",
        "\n",
        "        # Backward pass and update\n",
        "        loss.backward()\n",
        "        optimizer.step()\n",
        "\n",
        "        # zero grad before new step\n",
        "        optimizer.zero_grad()\n",
        "        epoch_loss += loss.item()\n",
        "\n",
        "    if (epoch+1) % 1 == 0:\n",
        "        print(f'epoch: {epoch+1}, train loss = {float(epoch_loss/(batch_idx+1)):.4f}')\n",
        "        train_losses.append(float(epoch_loss/(batch_idx+1)))\n",
        "\n",
        "        with torch.no_grad():\n",
        "            test_loss = 0\n",
        "\n",
        "            for batch_idx2, (xt, _) in enumerate(test_loader):\n",
        "                xt = torch.bernoulli(xt.to(device).reshape(xt.size(0), -1))\n",
        "\n",
        "                z, logdet = model.inverse(xt)\n",
        "                loss = torch.log(z.new_tensor([2*math.pi])) + torch.mean(torch.sum(0.5*z**2, -1) - logdet)\n",
        "\n",
        "                test_loss += loss.item()\n",
        "\n",
        "            print(f'epoch: {epoch+1}, test loss = {float(test_loss/(batch_idx2+1)):.4f}')\n",
        "            test_losses.append(float(test_loss/(batch_idx2+1)))"
      ],
      "metadata": {
        "colab": {
          "base_uri": "https://localhost:8080/"
        },
        "id": "bXotNp1HA_Lf",
        "outputId": "48d007ca-12b1-404a-9ca1-18b6a6a089c9"
      },
      "execution_count": null,
      "outputs": [
        {
          "output_type": "stream",
          "name": "stdout",
          "text": [
            "epoch: 1, train loss = 24.6853\n",
            "epoch: 1, test loss = 20.3637\n",
            "epoch: 2, train loss = 19.5413\n",
            "epoch: 2, test loss = 18.7926\n",
            "epoch: 3, train loss = 18.4491\n",
            "epoch: 3, test loss = 18.0395\n",
            "epoch: 4, train loss = 17.8827\n",
            "epoch: 4, test loss = 17.6410\n",
            "epoch: 5, train loss = 17.4994\n",
            "epoch: 5, test loss = 17.3198\n",
            "epoch: 6, train loss = 17.2056\n",
            "epoch: 6, test loss = 17.0606\n",
            "epoch: 7, train loss = 16.9809\n",
            "epoch: 7, test loss = 16.8726\n",
            "epoch: 8, train loss = 16.8120\n",
            "epoch: 8, test loss = 16.7062\n",
            "epoch: 9, train loss = 16.6835\n",
            "epoch: 9, test loss = 16.6045\n",
            "epoch: 10, train loss = 16.5723\n",
            "epoch: 10, test loss = 16.4832\n",
            "epoch: 11, train loss = 16.4562\n",
            "epoch: 11, test loss = 16.4605\n",
            "epoch: 12, train loss = 16.3867\n",
            "epoch: 12, test loss = 16.3689\n",
            "epoch: 13, train loss = 16.3238\n",
            "epoch: 13, test loss = 16.2883\n",
            "epoch: 14, train loss = 16.2707\n",
            "epoch: 14, test loss = 16.3242\n",
            "epoch: 15, train loss = 16.2008\n",
            "epoch: 15, test loss = 16.2268\n",
            "epoch: 16, train loss = 16.1648\n",
            "epoch: 16, test loss = 16.1652\n",
            "epoch: 17, train loss = 16.1166\n",
            "epoch: 17, test loss = 16.1122\n",
            "epoch: 18, train loss = 16.0774\n",
            "epoch: 18, test loss = 16.1550\n",
            "epoch: 19, train loss = 16.0396\n",
            "epoch: 19, test loss = 16.1234\n",
            "epoch: 20, train loss = 16.0033\n",
            "epoch: 20, test loss = 16.0593\n",
            "epoch: 21, train loss = 15.9718\n",
            "epoch: 21, test loss = 16.0154\n",
            "epoch: 22, train loss = 15.9512\n",
            "epoch: 22, test loss = 16.0018\n",
            "epoch: 23, train loss = 15.9200\n",
            "epoch: 23, test loss = 15.9201\n",
            "epoch: 24, train loss = 15.8976\n",
            "epoch: 24, test loss = 15.9265\n",
            "epoch: 25, train loss = 15.8677\n",
            "epoch: 25, test loss = 15.9163\n",
            "epoch: 26, train loss = 15.8538\n",
            "epoch: 26, test loss = 15.8783\n",
            "epoch: 27, train loss = 15.8422\n",
            "epoch: 27, test loss = 15.8885\n",
            "epoch: 28, train loss = 15.8182\n",
            "epoch: 28, test loss = 15.8611\n",
            "epoch: 29, train loss = 15.8071\n",
            "epoch: 29, test loss = 15.8223\n",
            "epoch: 30, train loss = 15.7921\n",
            "epoch: 30, test loss = 15.8594\n",
            "epoch: 31, train loss = 15.7758\n",
            "epoch: 31, test loss = 15.9105\n",
            "epoch: 32, train loss = 15.7784\n",
            "epoch: 32, test loss = 15.7894\n",
            "epoch: 33, train loss = 15.7516\n",
            "epoch: 33, test loss = 15.8266\n",
            "epoch: 34, train loss = 15.7617\n",
            "epoch: 34, test loss = 15.8125\n",
            "epoch: 35, train loss = 15.7386\n",
            "epoch: 35, test loss = 15.7527\n",
            "epoch: 36, train loss = 15.7174\n",
            "epoch: 36, test loss = 15.7723\n",
            "epoch: 37, train loss = 15.7214\n",
            "epoch: 37, test loss = 15.7488\n",
            "epoch: 38, train loss = 15.6968\n",
            "epoch: 38, test loss = 15.7555\n",
            "epoch: 39, train loss = 15.6915\n",
            "epoch: 39, test loss = 15.7523\n",
            "epoch: 40, train loss = 15.6901\n",
            "epoch: 40, test loss = 15.7040\n",
            "epoch: 41, train loss = 15.6670\n",
            "epoch: 41, test loss = 15.7316\n",
            "epoch: 42, train loss = 15.6612\n",
            "epoch: 42, test loss = 15.7000\n",
            "epoch: 43, train loss = 15.6554\n",
            "epoch: 43, test loss = 15.6895\n",
            "epoch: 44, train loss = 15.6410\n",
            "epoch: 44, test loss = 15.7019\n",
            "epoch: 45, train loss = 15.6315\n",
            "epoch: 45, test loss = 15.6894\n",
            "epoch: 46, train loss = 15.6202\n",
            "epoch: 46, test loss = 15.6659\n",
            "epoch: 47, train loss = 15.6203\n",
            "epoch: 47, test loss = 15.6453\n",
            "epoch: 48, train loss = 15.5967\n",
            "epoch: 48, test loss = 15.6822\n",
            "epoch: 49, train loss = 15.5951\n",
            "epoch: 49, test loss = 15.6598\n",
            "epoch: 50, train loss = 15.5961\n",
            "epoch: 50, test loss = 15.6548\n"
          ]
        }
      ]
    },
    {
      "cell_type": "markdown",
      "source": [
        "## Plot Train and Test Loss"
      ],
      "metadata": {
        "id": "XKpTqNtILhUv"
      }
    },
    {
      "cell_type": "code",
      "source": [
        "plt.plot(range(num_epochs), train_losses, label=\"train loss\")\n",
        "plt.plot(range(num_epochs), test_losses, label=\"test loss\")\n",
        "plt.ylabel(\"loss\")\n",
        "plt.xlabel('Epoch')\n",
        "plt.legend()\n",
        "plt.show()"
      ],
      "metadata": {
        "colab": {
          "base_uri": "https://localhost:8080/",
          "height": 449
        },
        "id": "-LPCfsRBeZ-m",
        "outputId": "6a472958-c76f-4537-b2b4-ccb6a34cfc36"
      },
      "execution_count": null,
      "outputs": [
        {
          "output_type": "display_data",
          "data": {
            "text/plain": [
              "<Figure size 640x480 with 1 Axes>"
            ],
            "image/png": "[encoded data removed]"
          },
          "metadata": {}
        }
      ]
    },
    {
      "cell_type": "markdown",
      "source": [
        "## Generate random pictures"
      ],
      "metadata": {
        "id": "TmgB2anALpCB"
      }
    },
    {
      "cell_type": "code",
      "source": [
        "# Generate a new random seed\n",
        "z = torch.rand(16, 28*28)\n",
        "\n",
        "# Generate a new fake image\n",
        "z = torch.bernoulli(z.to(device).reshape(z.size(0), -1))\n",
        "fake_image, _ = model(z)"
      ],
      "metadata": {
        "id": "md5ywBwlwaRV"
      },
      "execution_count": null,
      "outputs": []
    },
    {
      "cell_type": "code",
      "source": [
        "t = fake_image.detach().numpy().reshape(16,28,28)"
      ],
      "metadata": {
        "id": "ijI7cy4lJXsm"
      },
      "execution_count": null,
      "outputs": []
    },
    {
      "cell_type": "code",
      "source": [
        "f, axis = plt.subplots(4, 4)\n",
        "f.set_figheight(10)\n",
        "f.set_figwidth(10)\n",
        "\n",
        "for i in range(4):\n",
        "  for j in range(4):\n",
        "    pic = (t[(i+1)*(j+1)-1])\n",
        "    axis[i,j].imshow(pic, cmap='gray')"
      ],
      "metadata": {
        "id": "nMp4bcag14y2",
        "colab": {
          "base_uri": "https://localhost:8080/",
          "height": 703
        },
        "outputId": "8c432648-ae6b-4c5f-bdb6-0c5846fa6169"
      },
      "execution_count": null,
      "outputs": [
        {
          "output_type": "display_data",
          "data": {
            "text/plain": [
              "<Figure size 1000x1000 with 16 Axes>"
            ],
            "image/png": "[encoded data removed]"
          },
          "metadata": {}
        }
      ]
    },
    {
      "cell_type": "code",
      "source": [],
      "metadata": {
        "id": "HBTlDj_2Jcbe"
      },
      "execution_count": null,
      "outputs": []
    }
  ]
}